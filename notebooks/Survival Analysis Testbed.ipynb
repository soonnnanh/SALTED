{
 "cells": [
  {
   "cell_type": "markdown",
   "metadata": {},
   "source": [
    "Ordering of times & counts for getting number at risk & times leaving "
   ]
  },
  {
   "cell_type": "code",
   "execution_count": 22,
   "metadata": {},
   "outputs": [],
   "source": [
    "import numpy as np\n",
    "\n",
    "time_enter,time_exit = np.asarray([0,0,10,0, 0]), np.asarray([3,5,13,9, 9]) \n",
    "timepoints = np.sort(np.unique(np.concatenate((time_enter, time_exit))), kind=\"mergesort\")\n",
    "total_counts = np.empty(len(uniq_times), dtype=np.int_)\n",
    "event_counts = np.empty(len(uniq_times), dtype=np.int_)\n",
    "\n",
    "order_enter = np.argsort(time_enter, kind=\"mergesort\")\n",
    "order_exit = np.argsort(time_exit, kind=\"mergesort\")\n",
    "s_time_enter = time_enter[order_enter]\n",
    "s_time_exit = time_exit[order_exit]\n",
    "\n",
    "# t0 = uniq_times[0]\n",
    "# # everything larger is included\n",
    "# idx_enter = np.searchsorted(s_time_enter, t0, side=\"right\")\n",
    "# # # everything smaller is excluded\n",
    "# idx_exit = np.searchsorted(s_time_exit, t0, side=\"left\")"
   ]
  },
  {
   "cell_type": "code",
   "execution_count": 32,
   "metadata": {},
   "outputs": [],
   "source": [
    "def _compute_counts_truncated(event, time_enter, time_exit):\n",
    "    \"\"\"Compute counts for left truncated and right censored survival data.\n",
    "    Parameters\n",
    "    ----------\n",
    "    event : array\n",
    "        Boolean event indicator.\n",
    "    time_start : array\n",
    "        Time when a subject entered the study.\n",
    "    time_exit : array\n",
    "        Time when a subject left the study due to an\n",
    "        event or censoring.\n",
    "    Returns\n",
    "    -------\n",
    "    times : array\n",
    "        Unique time points.\n",
    "    n_events : array\n",
    "        Number of events at each time point.\n",
    "    n_at_risk : array\n",
    "        Number of samples that are censored or have an event at each time point.\n",
    "    \"\"\"\n",
    "    import numpy\n",
    "    if (time_enter > time_exit).any():\n",
    "        raise ValueError(\"exit time must be larger start time for all samples\")\n",
    "\n",
    "    n_samples = event.shape[0]\n",
    "\n",
    "    uniq_times = numpy.sort(numpy.unique(numpy.concatenate((time_enter, time_exit))), kind=\"mergesort\")\n",
    "    total_counts = numpy.empty(len(uniq_times), dtype=numpy.int_)\n",
    "    event_counts = numpy.empty(len(uniq_times), dtype=numpy.int_)\n",
    "\n",
    "    order_enter = numpy.argsort(time_enter, kind=\"mergesort\")\n",
    "    order_exit = numpy.argsort(time_exit, kind=\"mergesort\")\n",
    "    s_time_enter = time_enter[order_enter]\n",
    "    s_time_exit = time_exit[order_exit]\n",
    "\n",
    "    t0 = uniq_times[0]\n",
    "    # everything larger is included\n",
    "    idx_enter = numpy.searchsorted(s_time_enter, t0, side=\"right\")\n",
    "    # everything smaller is excluded\n",
    "    idx_exit = numpy.searchsorted(s_time_exit, t0, side=\"left\")\n",
    "\n",
    "    total_counts[0] = idx_enter\n",
    "    # except people die on the day they enter\n",
    "    event_counts[0] = 0\n",
    "\n",
    "    for i in range(1, len(uniq_times)):\n",
    "        ti = uniq_times[i]\n",
    "\n",
    "        while idx_enter < n_samples and s_time_enter[idx_enter] <= ti:\n",
    "            idx_enter += 1\n",
    "\n",
    "        while idx_exit < n_samples and s_time_exit[idx_exit] < ti:\n",
    "            idx_exit += 1\n",
    "\n",
    "        risk_set = numpy.setdiff1d(order_enter[:idx_enter], order_exit[:idx_exit], assume_unique=True)\n",
    "        total_counts[i] = len(risk_set)\n",
    "\n",
    "        count_event = 0\n",
    "        k = idx_exit\n",
    "        while k < n_samples and s_time_exit[k] == ti:\n",
    "            if event[order_exit[k]]:\n",
    "                count_event += 1\n",
    "            k += 1\n",
    "        event_counts[i] = count_event\n",
    "\n",
    "    return uniq_times, event_counts, total_counts"
   ]
  },
  {
   "cell_type": "code",
   "execution_count": 35,
   "metadata": {},
   "outputs": [
    {
     "name": "stdout",
     "output_type": "stream",
     "text": [
      "[ 0  3  5  9 10 13] [0 1 1 1 0 1] [4 4 3 2 1 1]\n"
     ]
    }
   ],
   "source": [
    "time_in = np.asarray([0,0,10,0,0])\n",
    "time_out = np.asarray([3,5,13,9,9]) \n",
    "event  = np.asarray([1,1,1,1,0]) \n",
    "timeList, eventCount, totalCount = _compute_counts_truncated(event, time_in, time_out)\n",
    "print(timeList, eventCount, totalCount)"
   ]
  },
  {
   "cell_type": "code",
   "execution_count": 36,
   "metadata": {},
   "outputs": [
    {
     "name": "stdout",
     "output_type": "stream",
     "text": [
      "150 µs ± 3.27 µs per loop (mean ± std. dev. of 7 runs, 10000 loops each)\n"
     ]
    }
   ],
   "source": [
    "%%timeit\n",
    "timeList, eventCount, totalCount = _compute_counts_truncated(event, time_in, time_out)"
   ]
  },
  {
   "cell_type": "code",
   "execution_count": 48,
   "metadata": {},
   "outputs": [
    {
     "name": "stdout",
     "output_type": "stream",
     "text": [
      "102 µs ± 2.64 µs per loop (mean ± std. dev. of 7 runs, 10000 loops each)\n"
     ]
    }
   ],
   "source": [
    "%%timeit\n",
    "timeList2, eventCount2, totalCount2 = test_function(event, time_in, time_out)"
   ]
  },
  {
   "cell_type": "code",
   "execution_count": null,
   "metadata": {},
   "outputs": [],
   "source": [
    "plot_config = {\n",
    "    \"main\" : {\n",
    "        \"type\" :\"step\", \n",
    "        \"x_data\" \n",
    "    }\n",
    "    \"multiple\": {\n",
    "        \"n_columns\" : 1,\n",
    "        \"n_rows\"    : 1\n",
    "    }, \n",
    "    \"plt_functions\": {\n",
    "        \"title\": \"TEST123\", \n",
    "        \"grid\" : True\n",
    "    }\n",
    "}"
   ]
  },
  {
   "cell_type": "code",
   "execution_count": 169,
   "metadata": {},
   "outputs": [],
   "source": [
    "import matplotlib.pyplot as plt \n",
    "from inspect import getmembers, isfunction \n",
    "\n",
    "class notInPltException(Exception): \n",
    "    pass\n",
    "\n",
    "class plotCustomiser: \n",
    "    def __init__(self, plot_config): \n",
    "        super(plotCustomiser, self).__init__()\n",
    "        self.plt_main = plot_config[\"main\"]\n",
    "        self.plt_config = plot_config[\"plt_functions\"]\n",
    "        self.plot_multiple = plot_config[\"multiple\"]\n",
    "        self.plt_function_list = [o[0] for o in getmembers(plt) if isfunction(o[1])]\n",
    "#         print('Init ok')\n",
    "        self._plot()\n",
    "        plt.show()\n",
    "    \n",
    "    def _plot(self): \n",
    "        if self.plt_main[\"type\"] not in self.plt_function_list: \n",
    "            raise notInPltException(\"Plotting function {} not in matplotlib\".format(self.plt_main[\"type\"]))\n",
    "        else:\n",
    "            plt_mainEvalStr = \"plt.{}({},{}, where = 'post')\".format(\\\n",
    "                                                      self.plt_main[\"type\"],\n",
    "                                                      list(self.plt_main[\"x_data\"]), \n",
    "                                                      list(self.plt_main[\"y_data\"])\n",
    "            )\n",
    "            try: \n",
    "                eval(plt_mainEvalStr)\n",
    "            except Exception as e:\n",
    "                print(\"Couldn't evaluate main statement: {}\".format(e))\n",
    "        for config_key, config_value in self.plt_config.items(): \n",
    "            print(config_key, config_value)\n",
    "            if config_key not in self.plt_function_list: \n",
    "                raise notInPltException(\"Argument {} not in matplotlib. Check spelling\".format(config_key))\n",
    "            else: \n",
    "                eval(\"plt.{}('{}')\".format(config_key, config_value))"
   ]
  },
  {
   "cell_type": "code",
   "execution_count": 170,
   "metadata": {},
   "outputs": [],
   "source": [
    "def plot_survival_function(x_data, y_data,\n",
    "                           plot_config = {}, \n",
    "                           log_time = False, log_prob = False ): \n",
    "    try: \n",
    "        plot_config[\"main\"] = {\n",
    "            \"type\" : \"step\", \n",
    "            \"x_data\" : np.asarray(x_data), \n",
    "            \"y_data\" : np.asarray(y_data)\n",
    "        }\n",
    "        plot_keys = list(plot_config.keys())\n",
    "        \n",
    "        if \"multiple\" not in plot_keys: \n",
    "            plot_config[\"multiple\"] = None\n",
    "        if \"plt_functions\" not in plot_keys:\n",
    "            plot_config[\"plt_functions\"] = {\n",
    "                \"title\" : \"Survival function\", \n",
    "                \"ylabel\" : \"Probability of survival\",\n",
    "                \"xlabel\" : \"Time\"\n",
    "            }\n",
    "        \n",
    "        if log_time is True: \n",
    "            x_data_log = np.log(x_data)\n",
    "            plot_config[\"plt_functions\"][\"xlabel\"] = \"Log time\"\n",
    "            plot_config[\"main\"][\"x_data\"] = x_data_log\n",
    "        if log_prob is True: \n",
    "            y_data_log = np.log(y_data)\n",
    "            plot_config[\"plt_functions\"][\"ylabel\"] = \"Log probability of survival\"\n",
    "            plot_config[\"main\"][\"y_data\"] = y_data_log\n",
    "        print(plot_config)\n",
    "        plotCustomiser(plot_config)\n",
    "\n",
    "    except Exception as e: \n",
    "        print(\"Failed to plot survival function : {}\".format(e))"
   ]
  },
  {
   "cell_type": "code",
   "execution_count": 172,
   "metadata": {},
   "outputs": [
    {
     "name": "stdout",
     "output_type": "stream",
     "text": [
      "{'main': {'type': 'step', 'x_data': array([1, 2, 3, 4]), 'y_data': array([1. , 0.8, 0.6, 0.4])}, 'multiple': None, 'plt_functions': {'title': 'Survival function', 'ylabel': 'Log probability of survival', 'xlabel': 'Time'}}\n",
      "title Survival function\n",
      "ylabel Log probability of survival\n",
      "xlabel Time\n"
     ]
    },
    {
     "data": {
      "image/png": "[encoded data removed]",
      "text/plain": [
       "<Figure size 432x288 with 1 Axes>"
      ]
     },
     "metadata": {
      "needs_background": "light"
     },
     "output_type": "display_data"
    }
   ],
   "source": [
    "plot_survival_function([1,2,3,4], [1, 0.8, 0.6, 0.4], log_prob = False)"
   ]
  },
  {
   "cell_type": "code",
   "execution_count": 112,
   "metadata": {},
   "outputs": [
    {
     "data": {
      "text/plain": [
       "[<matplotlib.lines.Line2D at 0x115a9cd68>]"
      ]
     },
     "execution_count": 112,
     "metadata": {},
     "output_type": "execute_result"
    },
    {
     "data": {
      "image/png": "[encoded data removed]",
      "text/plain": [
       "<Figure size 432x288 with 1 Axes>"
      ]
     },
     "metadata": {
      "needs_background": "light"
     },
     "output_type": "display_data"
    }
   ],
   "source": [
    "plt.step(np.asarray([1,2,3,4]), np.log(np.asarray([1, 0.8, 0.6, 0.4])))"
   ]
  },
  {
   "cell_type": "code",
   "execution_count": 55,
   "metadata": {},
   "outputs": [],
   "source": [
    "from inspect import getmembers, isfunction\n",
    "import matplotlib.pyplot as plt\n",
    "\n",
    "functions_list = [o[0] for o in getmembers(plt) if isfunction(o[1])]"
   ]
  },
  {
   "cell_type": "code",
   "execution_count": 56,
   "metadata": {},
   "outputs": [
    {
     "data": {
      "text/plain": [
       "['_IP_REGISTERED',\n",
       " '_auto_draw_if_interactive',\n",
       " '_get_running_interactive_framework',\n",
       " '_setp',\n",
       " '_setup_pyplot_info_docstrings',\n",
       " '_show',\n",
       " 'acorr',\n",
       " 'angle_spectrum',\n",
       " 'annotate',\n",
       " 'arrow',\n",
       " 'autoscale',\n",
       " 'autumn',\n",
       " 'axes',\n",
       " 'axhline',\n",
       " 'axhspan',\n",
       " 'axis',\n",
       " 'axvline',\n",
       " 'axvspan',\n",
       " 'bar',\n",
       " 'barbs',\n",
       " 'barh',\n",
       " 'bone',\n",
       " 'box',\n",
       " 'boxplot',\n",
       " 'broken_barh',\n",
       " 'cla',\n",
       " 'clabel',\n",
       " 'clf',\n",
       " 'clim',\n",
       " 'close',\n",
       " 'cohere',\n",
       " 'colorbar',\n",
       " 'colormaps',\n",
       " 'connect',\n",
       " 'contour',\n",
       " 'contourf',\n",
       " 'cool',\n",
       " 'copper',\n",
       " 'csd',\n",
       " 'cycler',\n",
       " 'dedent',\n",
       " 'delaxes',\n",
       " 'deprecated',\n",
       " 'disconnect',\n",
       " 'draw',\n",
       " 'draw_if_interactive',\n",
       " 'errorbar',\n",
       " 'eventplot',\n",
       " 'figaspect',\n",
       " 'figimage',\n",
       " 'figlegend',\n",
       " 'fignum_exists',\n",
       " 'figtext',\n",
       " 'figure',\n",
       " 'fill',\n",
       " 'fill_between',\n",
       " 'fill_betweenx',\n",
       " 'findobj',\n",
       " 'flag',\n",
       " 'gca',\n",
       " 'gcf',\n",
       " 'gci',\n",
       " 'get',\n",
       " 'get_backend',\n",
       " 'get_cmap',\n",
       " 'get_current_fig_manager',\n",
       " 'get_figlabels',\n",
       " 'get_fignums',\n",
       " 'get_plot_commands',\n",
       " 'get_scale_docs',\n",
       " 'get_scale_names',\n",
       " 'getp',\n",
       " 'ginput',\n",
       " 'gray',\n",
       " 'grid',\n",
       " 'hexbin',\n",
       " 'hist',\n",
       " 'hist2d',\n",
       " 'hlines',\n",
       " 'hot',\n",
       " 'hsv',\n",
       " 'imread',\n",
       " 'imsave',\n",
       " 'imshow',\n",
       " 'inferno',\n",
       " 'install_repl_displayhook',\n",
       " 'interactive',\n",
       " 'ioff',\n",
       " 'ion',\n",
       " 'isinteractive',\n",
       " 'jet',\n",
       " 'legend',\n",
       " 'locator_params',\n",
       " 'loglog',\n",
       " 'magma',\n",
       " 'magnitude_spectrum',\n",
       " 'margins',\n",
       " 'matshow',\n",
       " 'minorticks_off',\n",
       " 'minorticks_on',\n",
       " 'nipy_spectral',\n",
       " 'pause',\n",
       " 'pcolor',\n",
       " 'pcolormesh',\n",
       " 'phase_spectrum',\n",
       " 'pie',\n",
       " 'pink',\n",
       " 'plasma',\n",
       " 'plot',\n",
       " 'plot_date',\n",
       " 'plotfile',\n",
       " 'plotting',\n",
       " 'polar',\n",
       " 'prism',\n",
       " 'psd',\n",
       " 'pylab_setup',\n",
       " 'quiver',\n",
       " 'quiverkey',\n",
       " 'rc',\n",
       " 'rc_context',\n",
       " 'rcdefaults',\n",
       " 'register_cmap',\n",
       " 'rgrids',\n",
       " 'savefig',\n",
       " 'sca',\n",
       " 'scatter',\n",
       " 'sci',\n",
       " 'semilogx',\n",
       " 'semilogy',\n",
       " 'set_cmap',\n",
       " 'set_loglevel',\n",
       " 'setp',\n",
       " 'show',\n",
       " 'specgram',\n",
       " 'spring',\n",
       " 'spy',\n",
       " 'stackplot',\n",
       " 'stem',\n",
       " 'step',\n",
       " 'streamplot',\n",
       " 'subplot',\n",
       " 'subplot2grid',\n",
       " 'subplot_tool',\n",
       " 'subplots',\n",
       " 'subplots_adjust',\n",
       " 'summer',\n",
       " 'suptitle',\n",
       " 'switch_backend',\n",
       " 'table',\n",
       " 'text',\n",
       " 'thetagrids',\n",
       " 'tick_params',\n",
       " 'ticklabel_format',\n",
       " 'tight_layout',\n",
       " 'title',\n",
       " 'tricontour',\n",
       " 'tricontourf',\n",
       " 'tripcolor',\n",
       " 'triplot',\n",
       " 'twinx',\n",
       " 'twiny',\n",
       " 'uninstall_repl_displayhook',\n",
       " 'violinplot',\n",
       " 'viridis',\n",
       " 'vlines',\n",
       " 'waitforbuttonpress',\n",
       " 'warn_deprecated',\n",
       " 'winter',\n",
       " 'xcorr',\n",
       " 'xkcd',\n",
       " 'xlabel',\n",
       " 'xlim',\n",
       " 'xscale',\n",
       " 'xticks',\n",
       " 'ylabel',\n",
       " 'ylim',\n",
       " 'yscale',\n",
       " 'yticks']"
      ]
     },
     "execution_count": 56,
     "metadata": {},
     "output_type": "execute_result"
    }
   ],
   "source": [
    "functions_list"
   ]
  },
  {
   "cell_type": "code",
   "execution_count": null,
   "metadata": {},
   "outputs": [],
   "source": []
  }
 ],
 "metadata": {
  "kernelspec": {
   "display_name": "Python 3",
   "language": "python",
   "name": "python3"
  },
  "language_info": {
   "codemirror_mode": {
    "name": "ipython",
    "version": 3
   },
   "file_extension": ".py",
   "mimetype": "text/x-python",
   "name": "python",
   "nbconvert_exporter": "python",
   "pygments_lexer": "ipython3",
   "version": "3.7.3"
  }
 },
 "nbformat": 4,
 "nbformat_minor": 4
}
